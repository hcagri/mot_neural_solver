{
  "cells": [
    {
      "cell_type": "markdown",
      "source": [
        "❗❗❗  **Do not run all**"
      ],
      "metadata": {
        "id": "JjVH8O5DlIUk"
      }
    },
    {
      "cell_type": "markdown",
      "source": [
        "In order to setup the environment (to install the packages with correct versions) of the project we need a conda package manager."
      ],
      "metadata": {
        "id": "sFRImhdAAb31"
      }
    },
    {
      "cell_type": "code",
      "execution_count": null,
      "metadata": {
        "id": "bOAhBV2SWLZA"
      },
      "outputs": [],
      "source": [
        "%%bash \n",
        "%env PYTHONPATH=\n",
        "MINICONDA_INSTALLER_SCRIPT=Miniconda3-4.5.4-Linux-x86_64.sh\n",
        "MINICONDA_PREFIX=/usr/local\n",
        "wget https://repo.continuum.io/miniconda/$MINICONDA_INSTALLER_SCRIPT\n",
        "chmod +x $MINICONDA_INSTALLER_SCRIPT\n",
        "./$MINICONDA_INSTALLER_SCRIPT -b -f -p $MINICONDA_PREFIX\n",
        "conda install --channel defaults conda python=3.6 --yes\n",
        "conda update --channel defaults --all --yes"
      ]
    },
    {
      "cell_type": "code",
      "execution_count": null,
      "metadata": {
        "id": "81wKWt2zZ0R-"
      },
      "outputs": [],
      "source": [
        "!git clone --recursive https://github.com/hcagri/mot_neural_solver.git\n",
        "%cd mot_neural_solver"
      ]
    },
    {
      "cell_type": "markdown",
      "source": [
        "Since the colab is a virtual machine, it works differently than local machines, so we cannot use virtual environments other than base environment. To work around that, I just update the base environment with the packages we need"
      ],
      "metadata": {
        "id": "XsYM8DXCAim6"
      }
    },
    {
      "cell_type": "code",
      "execution_count": null,
      "metadata": {
        "id": "4xBuxhAItcDn"
      },
      "outputs": [],
      "source": [
        "!conda env update -n base -f environment.yaml"
      ]
    },
    {
      "cell_type": "code",
      "execution_count": 5,
      "metadata": {
        "id": "apC1MkYOOAR8"
      },
      "outputs": [],
      "source": [
        "import sys\n",
        "sys.path\n",
        "_ = (sys.path\n",
        "        .append(\"/usr/local/lib/python3.6/site-packages\"))"
      ]
    },
    {
      "cell_type": "code",
      "execution_count": null,
      "metadata": {
        "id": "CggPdUl6fHXM"
      },
      "outputs": [],
      "source": [
        "%%bash\n",
        "pip install -e tracking_wo_bnw\n",
        "python setup.py install\n",
        "pip install gdown"
      ]
    },
    {
      "cell_type": "code",
      "execution_count": null,
      "metadata": {
        "id": "ZJC3niOwYPtY"
      },
      "outputs": [],
      "source": [
        "%%bash\n",
        "bash scripts/setup/download_motcha.sh\n",
        "bash scripts/setup/download_models.sh\n",
        "bash scripts/setup/download_prepr_dets.sh\n",
        "bash scripts/setup/download_mot20.sh"
      ]
    },
    {
      "cell_type": "markdown",
      "source": [
        "The first time you use a sequence for training or testing, it will need to be processed. This means that ground truth boxes (if available) will be assigned to detection boxes, detection files will be stored with sequence metainformation, and (possibly) reid embeddings will be computed and stored. This process takes  more than 1.5 hours for train sets of MOT20 only needs to be performed once per set of detections. In order to save time in the cloud working environment (because every time I have to wait 1.5 hours before even training starts), I have preprocessed the MOT20 training sequences and upload to drive. Downloading them takes less than 2 min.\n",
        "\n"
      ],
      "metadata": {
        "id": "t5ewOedjH0T8"
      }
    },
    {
      "cell_type": "code",
      "source": [
        "%cd /content/\n",
        "import gdown\n",
        "urls = [\n",
        "         ['https://drive.google.com/uc?id=1Gu74yUrl5wdDBGcQS_f_YCVmxd-8MDeX', 'MOT20-01-GT.zip'],\n",
        "         ['https://drive.google.com/uc?id=1W6DyhDPona8h7nqTkal9D71YSogQoZjl', 'MOT20-02-GT.zip'],\n",
        "         ['https://drive.google.com/uc?id=18aV68SJzpdKv3BdgiNcE6vQYk6YcrG5M', 'MOT20-03-GT.zip'],\n",
        "         ['https://drive.google.com/uc?id=1LnRBLIhzmiREdfgXyysjdrUO2gHR-9tb', 'MOT20-05-GT.zip']\n",
        "        ]\n",
        "        \n",
        "for url, output in urls:\n",
        "  gdown.download(url, output, quiet=False)"
      ],
      "metadata": {
        "id": "tAcEfPtPBITF"
      },
      "execution_count": null,
      "outputs": []
    },
    {
      "cell_type": "code",
      "source": [
        "!bash /content/mot_neural_solver/unzip_move.sh"
      ],
      "metadata": {
        "id": "G8UHyNFDBL2q"
      },
      "execution_count": null,
      "outputs": []
    },
    {
      "cell_type": "code",
      "execution_count": null,
      "metadata": {
        "id": "q0QZ1Bi9fs4t"
      },
      "outputs": [],
      "source": [
        "!conda install --channel conda-forge ipykernel --yes"
      ]
    },
    {
      "cell_type": "code",
      "execution_count": null,
      "metadata": {
        "id": "UwPCkF7B3DJO"
      },
      "outputs": [],
      "source": [
        "!pip install --upgrade jupyter_client"
      ]
    },
    {
      "cell_type": "markdown",
      "source": [
        "\n",
        "\n",
        "---\n",
        "\n",
        "\n",
        "\n",
        "❗**At this point, the runtime needs to be restarted for jupyter_client to be install correctly**\n",
        "\n",
        "\n",
        "---\n",
        "\n",
        "**Do not** run the below cells without restrating the runtime\n",
        "\n"
      ],
      "metadata": {
        "id": "UqA5Wt2tjQ0V"
      }
    },
    {
      "cell_type": "code",
      "source": [
        "%cd mot_neural_solver"
      ],
      "metadata": {
        "id": "UMbxziJEnclB"
      },
      "execution_count": null,
      "outputs": []
    },
    {
      "cell_type": "markdown",
      "source": [
        "To train the model on MOT15 and MOT17 datasets run the below cell"
      ],
      "metadata": {
        "id": "Z0sGv6g9AxC_"
      }
    },
    {
      "cell_type": "code",
      "source": [
        "!python scripts/train.py "
      ],
      "metadata": {
        "id": "3Z7vNFj7VDCD"
      },
      "execution_count": null,
      "outputs": []
    },
    {
      "cell_type": "markdown",
      "source": [
        "To train the model on MOT15 and MOT17 datasets run the below cell"
      ],
      "metadata": {
        "id": "VeJobicHA8KB"
      }
    },
    {
      "cell_type": "code",
      "source": [
        "!python scripts/train.py with configs/mot20/tracking_cfg.yaml train_params.save_every_epoch=True train_params.num_epochs=22"
      ],
      "metadata": {
        "id": "sn8Si69uA9b0"
      },
      "execution_count": null,
      "outputs": []
    },
    {
      "cell_type": "markdown",
      "source": [
        "To evaluate the model pretrained model on MOT15-17 datasets by the original authors run the below cell"
      ],
      "metadata": {
        "id": "XX5cCGA4BYEe"
      }
    },
    {
      "cell_type": "code",
      "source": [
        "!python scripts/evaluate.py "
      ],
      "metadata": {
        "id": "cIo3mpgfBYjQ"
      },
      "execution_count": null,
      "outputs": []
    },
    {
      "cell_type": "markdown",
      "source": [
        "To evaluate the model pretrained model on MOT20 datasets by the original authors run the below cell"
      ],
      "metadata": {
        "id": "QVhMdRDfBcrS"
      }
    },
    {
      "cell_type": "code",
      "source": [
        "!python scripts/evaluate.py with configs/mot20/tracking_cfg.yaml"
      ],
      "metadata": {
        "id": "5yyCNQE4BBva"
      },
      "execution_count": null,
      "outputs": []
    }
  ],
  "metadata": {
    "accelerator": "GPU",
    "colab": {
      "collapsed_sections": [],
      "name": "NeuralSolver.ipynb",
      "provenance": []
    },
    "kernelspec": {
      "display_name": "Python 3",
      "name": "python3"
    },
    "language_info": {
      "name": "python"
    }
  },
  "nbformat": 4,
  "nbformat_minor": 0
}